{
 "cells": [
  {
   "cell_type": "markdown",
   "metadata": {},
   "source": [
    "# Work by Tal Halpern"
   ]
  },
  {
   "cell_type": "markdown",
   "metadata": {},
   "source": [
    "### We will demonstrate the ability of a deep learning model to estimate the rotation angle of an image. The input to the network are the original and rotated images and the output the estimated rotation. We will use a network similar to the one used in examples for image recognition (like https://github.com/keras-team/keras/blob/master/examples/mnist_cnn.py). Instead of a softmax layer  we will have one output neuron with tanh activation. The angle range is normalised such that -180 deg transferred to -1 and 180 to 1. We will also use a specific loss function to accommodate the cyclic nature of the rotation (if the image was rotated by 10 deg and the prediction was -20 the correct dist is 30 deg not 330 deg). The loss function is taken from https://github.com/d4nst/RotNet/blob/master/utils.py"
   ]
  },
  {
   "cell_type": "markdown",
   "metadata": {},
   "source": [
    "#### Importing stuff:"
   ]
  },
  {
   "cell_type": "code",
   "execution_count": 1,
   "metadata": {},
   "outputs": [],
   "source": [
    "%matplotlib inline\n",
    "import matplotlib.pyplot as plt\n",
    "import matplotlib as mpl\n",
    "import pandas as pd\n",
    "import numpy as np\n",
    "\n",
    "import torch\n",
    "from torch.autograd import Variable\n",
    "from torch.utils.data import TensorDataset\n",
    "from torch.utils.data import DataLoader \n",
    "from torch import normal, nn, optim\n",
    "import torch.nn.functional as F\n",
    "from torch import cat\n",
    "\n",
    "from torchvision import datasets, transforms\n",
    "from torchvision.utils import save_image\n",
    "import pickle\n",
    "from scipy.ndimage.interpolation import rotate\n"
   ]
  },
  {
   "cell_type": "markdown",
   "metadata": {},
   "source": [
    "#### Helper funcs:"
   ]
  },
  {
   "cell_type": "code",
   "execution_count": 2,
   "metadata": {},
   "outputs": [],
   "source": [
    "def load():\n",
    "    with open(\"mnist.pkl\",'rb') as f:\n",
    "        mnist = pickle.load(f)\n",
    "    return mnist[\"training_images\"], mnist[\"training_labels\"], mnist[\"test_images\"], mnist[\"test_labels\"]\n",
    "def plot_rotated_images(x_train,x_train_rotated,shift_angles,pair_num_to_use=1):\n",
    "    counter=1\n",
    "    fig = plt.figure()\n",
    "    for term in range(pair_num_to_use):\n",
    "        img_id_to_use=np.random.randint(low=0,high=shift_angles.shape[0])\n",
    "        ax=fig.add_subplot(pair_num_to_use,2,counter)\n",
    "        img_temp=np.squeeze(x_train[img_id_to_use])\n",
    "        plt.imshow(img_temp,cmap='gray')\n",
    "        ax.set_title(\"no rotation\")\n",
    "        \n",
    "        counter+=1\n",
    "        ax=fig.add_subplot(pair_num_to_use,2,counter)\n",
    "        img_temp=np.squeeze(x_train_rotated[img_id_to_use])\n",
    "        plt.imshow(img_temp,cmap='gray')\n",
    "        ax.set_title(\"rotation angle of {0:.2f}\".format(shift_angles[img_id_to_use]*180))\n",
    "        counter+=1\n",
    "    fig.tight_layout()\n",
    "def rotate_images(x_train,shift_angles):\n",
    "    x_train_rotated=np.zeros(x_train.shape)\n",
    "    for term in range(x_train.shape[0]):\n",
    "        img_temp=x_train[term]\n",
    "        angle_temp=shift_angles[term]*359\n",
    "        img_rotated=rotate(img_temp,angle_temp,reshape=False)\n",
    "        x_train_rotated[term]=img_rotated\n",
    "    return x_train_rotated\n",
    "def get_train_validation(x_train,x_train_rotated,shift_angles,validation_size):\n",
    "    total_sample_num=x_train_rotated.shape[0]\n",
    "    train_size=total_sample_num-validation_size\n",
    "    rand_vals=np.random.uniform(size=(total_sample_num))\n",
    "    new_loc=np.argsort(rand_vals)\n",
    "    x_train_rotated=x_train_rotated[new_loc]\n",
    "    x_train=x_train[new_loc]\n",
    "    shift_angles=shift_angles[new_loc]\n",
    "    \n",
    "    x_validation=x_train[-validation_size:]\n",
    "    x_validation_rotated=x_train_rotated[-validation_size:]\n",
    "    shift_angles_validation=shift_angles[-validation_size:]\n",
    "   \n",
    "    x_train=x_train[:train_size]\n",
    "    x_train_rotated=x_train_rotated[:train_size]\n",
    "    shift_angles=shift_angles[:train_size]\n",
    "   \n",
    "    out_dict={}\n",
    "    out_dict[\"x_train\"]=x_train\n",
    "    out_dict[\"x_train_rotated\"]=x_train_rotated\n",
    "    out_dict[\"shift_angles\"]=shift_angles\n",
    "   \n",
    "    out_dict[\"x_validation\"]=x_validation\n",
    "    out_dict[\"x_validation_rotated\"]=x_validation_rotated\n",
    "    out_dict[\"shift_angles_validation\"]=shift_angles_validation\n",
    " \n",
    "    return out_dict\n",
    "\n",
    "def duplicate_data(x_train_original,repetition_num):\n",
    "    x_train=x_train_original.copy()\n",
    "    for term in range(repetition_num-1):\n",
    "        x_train=np.concatenate((x_train,x_train_original),axis=0)\n",
    "    return x_train\n",
    "def get_stats(group):\n",
    "    return {'median_err': group.min(), 'max_err': group.max()\\\n",
    "            , 'count': group.count(), 'mean_err': group.mean()\\\n",
    "            , \"std_err\": group.std()}\n",
    "        \n",
    "    \n",
    "    "
   ]
  },
  {
   "cell_type": "markdown",
   "metadata": {},
   "source": [
    "#### Network definitions and network utility funcs: "
   ]
  },
  {
   "cell_type": "code",
   "execution_count": 3,
   "metadata": {},
   "outputs": [],
   "source": [
    "import torch.nn as nn\n",
    "\n",
    "class rotation_predict_net(nn.Module):\n",
    "    def __init__(self):\n",
    "        super(rotation_predict_net, self).__init__()\n",
    "        self.cnn_1 = nn.Conv2d(2, 32, 3,padding=1)\n",
    "        self.activation_2=nn.ReLU()\n",
    "        self.cnn_3=nn.Conv2d(32, 64, kernel_size=3,padding=1)\n",
    "        self.activation_4=nn.ReLU()\n",
    "        self.pool_5=nn.MaxPool2d(2, stride=2)\n",
    "        self.dropout_6=torch.nn.Dropout(p=0.25)\n",
    "        self.fc_7=nn.Linear(64 * 14 * 14, 128)\n",
    "        self.activation_8=nn.ReLU()\n",
    "        self.dropout_9=torch.nn.Dropout(p=0.5)\n",
    "        self.fc_10=nn.Linear(128, 50)\n",
    "        self.activation_11=nn.ReLU()\n",
    "        self.fc_12=nn.Linear(50,1)\n",
    "        #self.activation_13=nn.Hardtanh(min_val=0,max_val=1)\n",
    "        self.activation_13=nn.Tanh()\n",
    "    def forward(self, x):\n",
    "        x=self.cnn_1(x)\n",
    "        x=self.activation_2(x)\n",
    "        x=self.cnn_3(x)\n",
    "        x=self.activation_4(x)\n",
    "        x=self.pool_5(x)\n",
    "        x=self.dropout_6(x)\n",
    "        x=x.view(x.size()[0], -1)\n",
    "        x=self.fc_7(x)\n",
    "        x=self.activation_8(x)\n",
    "        x=self.dropout_9(x)\n",
    "        x=self.fc_10(x)\n",
    "        x=self.activation_11(x)\n",
    "        x=self.fc_12(x)\n",
    "        out=self.activation_13(x)\n",
    "        return out\n",
    "\n",
    "    \n",
    "class SiameseNetwork_tal(nn.Module):\n",
    "    def __init__(self):\n",
    "        super(SiameseNetwork_tal, self).__init__()\n",
    "        self.cnn_1 = nn.Conv2d(1, 32, 3,padding=1)\n",
    "        self.activation_2=nn.ReLU()\n",
    "        self.cnn_3=nn.Conv2d(32, 64, kernel_size=3,padding=1)\n",
    "        self.activation_4=nn.ReLU()\n",
    "        self.pool_5=nn.MaxPool2d(2, stride=2)\n",
    "        self.dropout_6=torch.nn.Dropout(p=0.25)\n",
    "        self.fc_7=nn.Linear(64 * 14 * 14, 128)\n",
    "        self.activation_8=nn.ReLU()\n",
    "        self.fc_9=nn.Linear(128*2, 200)\n",
    "        self.activation_10=nn.ReLU()\n",
    "        self.fc_11=nn.Linear(200, 50)\n",
    "        self.activation_12=nn.ReLU()\n",
    "        self.fc_13=nn.Linear(50,1)\n",
    "        #self.activation_14=nn.Hardtanh(min_val=0,max_val=1)\n",
    "        self.activation_14=nn.Tanh()\n",
    "\n",
    "\n",
    "       \n",
    "\n",
    "    def forward_once(self, data):\n",
    "        \n",
    "        x=self.cnn_1(data)\n",
    "        x=self.activation_2(x)\n",
    "        x=self.cnn_3(x)\n",
    "        x=self.activation_4(x)\n",
    "        x=self.pool_5(x)\n",
    "        x=self.dropout_6(x)\n",
    "        x=x.view(x.size()[0], -1)\n",
    "        x=self.fc_7(x)\n",
    "        x=self.activation_8(x)\n",
    "        \n",
    "        return x\n",
    "\n",
    "    def forward(self, input1, input2):\n",
    "        output1 = self.forward_once(input1)\n",
    "        output2 = self.forward_once(input2)\n",
    "        merged=cat((output1,output2),1)\n",
    "        \n",
    "        x=self.fc_9(merged)\n",
    "        x=self.activation_10(x)\n",
    "        x=self.fc_11(x)\n",
    "        x=self.activation_12(x)\n",
    "        x=self.fc_13(x)\n",
    "        out=self.activation_14(x)\n",
    "        \n",
    "        return out\n",
    "\n",
    "def angle_loss_abs(angles_original,angles_predicted,return_type=\"sum\"):\n",
    "    angles_original=torch.mul(angles_original,180)\n",
    "    #print(angles_original.size())\n",
    "    angles_predicted=torch.mul(angles_predicted,180)\n",
    "    #print(angles_predicted.size())\n",
    "    #diff=torch.sub(angles_original - angles_predicted)\n",
    "    err_vec=180 - torch.abs(torch.abs(angles_original - angles_predicted) - 180)\n",
    "    #print(err_vec.size())\n",
    "\n",
    "    if return_type==\"sum\":\n",
    "        return torch.sum(err_vec)\n",
    "    elif return_type==\"mean\":\n",
    "        return torch.mean(err_vec)\n",
    "    elif return_type==\"full\":\n",
    "        return err_vec\n",
    "    \n",
    "def get_prediction(data,data_rotated,model):\n",
    "    model.eval()\n",
    "    data=Variable(data)\n",
    "    data_rotated=Variable(data_rotated)\n",
    "    data=data.unsqueeze(1)\n",
    "    data_rotated=data_rotated.unsqueeze(1)\n",
    "    merged=cat((data,data_rotated),1)\n",
    "    shift_angles_predicted = model(merged)\n",
    "    return shift_angles_predicted\n",
    "\n",
    "def get_prediction_Siamese(data,data_rotated,model):\n",
    "    model.eval()\n",
    "    data=Variable(data)\n",
    "    data_rotated=Variable(data_rotated)\n",
    "    data=data.unsqueeze(1)\n",
    "    data_rotated=data_rotated.unsqueeze(1)\n",
    "    shift_angles_predicted = model(data,data_rotated)\n",
    "    return shift_angles_predicted\n",
    "\n",
    "def early_stopping(previos_loss,loss,tics,allowed_tics=4,improvment_needed=0.05):\n",
    "    if loss.data.numpy()>previos_loss:\n",
    "        tics+=1\n",
    "        print(\"no significat validation improvment number {}\".format(tics))\n",
    "        if tics>allowed_tics:\n",
    "            stuck=1\n",
    "            tics=0\n",
    "        else:\n",
    "            stuck=0\n",
    "    else:\n",
    "        delta_loss=previos_loss-loss.data.numpy()\n",
    "        if delta_loss>=improvment_needed:\n",
    "            previos_loss=loss.data.numpy()\n",
    "            tics=0\n",
    "            stuck=0\n",
    "        else:\n",
    "            tics+=1\n",
    "            print(\"no significat validation improvment number {}\".format(tics))\n",
    "            if tics>allowed_tics:\n",
    "                stuck=1\n",
    "                tics=0\n",
    "            else:\n",
    "                stuck=0\n",
    "    return previos_loss,tics,stuck\n",
    "\n",
    "def plot_train_err(loss_list,validation_list,batch_idx_list):\n",
    "    validation_arr=np.array(validation_list)\n",
    "    loss_arr=np.array(loss_list)\n",
    "    batch_arr=np.array(batch_idx_list)\n",
    "    plt.plot(batch_arr,validation_arr,\"r\",label='validation_data')\n",
    "    plt.plot(batch_arr,loss_arr,\"b\",label='train_data')\n",
    "    plt.legend()\n",
    "    plt.xlabel(\"mini batch\")\n",
    "    plt.ylabel(\"err\")\n",
    "    plt.title(\"train err plot\")\n",
    "    plt.show()\n",
    "            \n",
    "            \n",
    "        \n",
    "    \n",
    "        \n",
    "    \n",
    "\n",
    "\n",
    "    "
   ]
  },
  {
   "cell_type": "markdown",
   "metadata": {},
   "source": [
    "#### importing data, reshaping from a row representation to a square image of size 28x28. Images are normalised to range 0-1 (for simplicity no mean subtraction).  Instead of doing multiple epochs over the data we will use the fact that the data is actually generated by us. We will train the network for one epoch but on a duplicated dataset with random rotations. Actual run results are best for one epoch of original dataset or duplicated once"
   ]
  },
  {
   "cell_type": "code",
   "execution_count": 17,
   "metadata": {},
   "outputs": [
    {
     "name": "stdout",
     "output_type": "stream",
     "text": [
      "original train size: (60000, 784)\n",
      "after duplication, train size is: (120000, 784)\n",
      "reshape, train size is: (120000, 28, 28)\n",
      "images are normalized, train max val: 1.0, train min val: 0.0\n"
     ]
    }
   ],
   "source": [
    "x_train_original, _, _, _ = load()\n",
    "print(\"original train size: {}\".format(x_train_original.shape))\n",
    "repetition_num=2\n",
    "x_train=duplicate_data(x_train_original,repetition_num)\n",
    "print(\"after duplication, train size is: {}\".format(x_train.shape))\n",
    "x_train=x_train.reshape((x_train.shape[0],28,28))\n",
    "print(\"reshape, train size is: {}\".format(x_train.shape))\n",
    "x_train = x_train.astype('float32') / 255.\n",
    "print(\"images are normalized, train max val: {}, train min val: {}\".format(x_train.max(),x_train.min()))\n"
   ]
  },
  {
   "cell_type": "markdown",
   "metadata": {},
   "source": [
    "#### now we will draw rotation angles and generate the rotated images. Angle range is normelized so that [-180,180]--> [-1,1]"
   ]
  },
  {
   "cell_type": "code",
   "execution_count": 18,
   "metadata": {},
   "outputs": [
    {
     "name": "stdout",
     "output_type": "stream",
     "text": [
      "max anti clockwise shift (posotive): 20.29, max clockwise shift (negative): -21.45\n"
     ]
    }
   ],
   "source": [
    "shift_angles=np.random.normal(0,5,size=(x_train.shape[0]))\n",
    "shift_angles=shift_angles/180\n",
    "print(\"max anti clockwise shift (posotive): {:.2f}, max clockwise shift (negative): {:.2f}\"\\\n",
    "      .format(shift_angles.max()*180,shift_angles.min()*180))\n",
    "x_train_rotated=rotate_images(x_train,shift_angles)"
   ]
  },
  {
   "cell_type": "code",
   "execution_count": 19,
   "metadata": {},
   "outputs": [
    {
     "data": {
      "image/png": "[encoded data removed]",
      "text/plain": [
       "<matplotlib.figure.Figure at 0x10dc47048>"
      ]
     },
     "metadata": {},
     "output_type": "display_data"
    }
   ],
   "source": [
    "ax=plt.hist(shift_angles)\n",
    "plt.title(\"angle hist\")\n",
    "plt.xlabel(\"angle\")\n",
    "plt.ylabel(\"count\")\n",
    "plt.show()"
   ]
  },
  {
   "cell_type": "markdown",
   "metadata": {},
   "source": [
    "#### lets generate a validation set to monitor our training. MNIST comes mixed but we will mix it again and then grab the specified size of validation "
   ]
  },
  {
   "cell_type": "code",
   "execution_count": 20,
   "metadata": {},
   "outputs": [
    {
     "name": "stdout",
     "output_type": "stream",
     "text": [
      "new size of train is: 115000, validation size is: 5000\n"
     ]
    }
   ],
   "source": [
    "validation_size=5000\n",
    "out_dict=get_train_validation(x_train,x_train_rotated,shift_angles,validation_size)\n",
    "x_train=out_dict[\"x_train\"]\n",
    "x_train_rotated=out_dict[\"x_train_rotated\"]\n",
    "shift_angles=out_dict[\"shift_angles\"]\n",
    "x_validation=out_dict[\"x_validation\"]\n",
    "x_validation_rotated=out_dict[\"x_validation_rotated\"]\n",
    "shift_angles_validation=out_dict[\"shift_angles_validation\"]\n",
    "print(\"new size of train is: {}, validation size is: {}\".format(x_train.shape[0],x_validation.shape[0]))"
   ]
  },
  {
   "cell_type": "markdown",
   "metadata": {},
   "source": [
    "#### lets see the train data"
   ]
  },
  {
   "cell_type": "code",
   "execution_count": 21,
   "metadata": {},
   "outputs": [
    {
     "data": {
      "image/png": "[encoded data removed]",
      "text/plain": [
       "<matplotlib.figure.Figure at 0x10dc809b0>"
      ]
     },
     "metadata": {},
     "output_type": "display_data"
    }
   ],
   "source": [
    "plot_rotated_images(x_train,x_train_rotated,shift_angles,pair_num_to_use=3)\n"
   ]
  },
  {
   "cell_type": "markdown",
   "metadata": {},
   "source": [
    "#### and the validation data"
   ]
  },
  {
   "cell_type": "code",
   "execution_count": 22,
   "metadata": {},
   "outputs": [
    {
     "data": {
      "image/png": "[encoded data removed]",
      "text/plain": [
       "<matplotlib.figure.Figure at 0x10476fd30>"
      ]
     },
     "metadata": {},
     "output_type": "display_data"
    }
   ],
   "source": [
    "plot_rotated_images(x_validation,x_validation_rotated,shift_angles_validation,pair_num_to_use=3)"
   ]
  },
  {
   "cell_type": "markdown",
   "metadata": {},
   "source": [
    "#### last part, turn numpy into torch and build a DataLoader"
   ]
  },
  {
   "cell_type": "code",
   "execution_count": 23,
   "metadata": {},
   "outputs": [],
   "source": [
    "train_data_tn=torch.from_numpy(x_train).float()\n",
    "train_data_rotated_tn=torch.from_numpy(x_train_rotated).float()\n",
    "shift_angles_tn=torch.from_numpy(shift_angles).float()\n",
    "\n",
    "\n",
    "train_dataset=TensorDataset(train_data_tn,train_data_rotated_tn,shift_angles_tn)\n",
    "mini_batch_size=200\n",
    "train_loader=torch.utils.data.DataLoader(train_dataset,batch_size=mini_batch_size)\n",
    "\n",
    "validation_data_tn=torch.from_numpy(x_validation).float()\n",
    "validation_data_rotated_tn=torch.from_numpy(x_validation_rotated).float()\n",
    "shift_angles_validation_tn=torch.from_numpy(shift_angles_validation).float()\n",
    "shift_angles_validation_tn=shift_angles_validation_tn.unsqueeze(1)\n"
   ]
  },
  {
   "cell_type": "markdown",
   "metadata": {},
   "source": [
    "## First approch, using the two images as two ch. image"
   ]
  },
  {
   "cell_type": "markdown",
   "metadata": {},
   "source": [
    "#### lets initiate the model and see its struct"
   ]
  },
  {
   "cell_type": "code",
   "execution_count": 24,
   "metadata": {},
   "outputs": [],
   "source": [
    "model=rotation_predict_net()"
   ]
  },
  {
   "cell_type": "code",
   "execution_count": 32,
   "metadata": {},
   "outputs": [
    {
     "data": {
      "text/plain": [
       "rotation_predict_net(\n",
       "  (cnn_1): Conv2d(2, 32, kernel_size=(3, 3), stride=(1, 1), padding=(1, 1))\n",
       "  (activation_2): ReLU()\n",
       "  (cnn_3): Conv2d(32, 64, kernel_size=(3, 3), stride=(1, 1), padding=(1, 1))\n",
       "  (activation_4): ReLU()\n",
       "  (pool_5): MaxPool2d(kernel_size=2, stride=2, padding=0, dilation=1, ceil_mode=False)\n",
       "  (dropout_6): Dropout(p=0.25)\n",
       "  (fc_7): Linear(in_features=12544, out_features=128, bias=True)\n",
       "  (activation_8): ReLU()\n",
       "  (dropout_9): Dropout(p=0.5)\n",
       "  (fc_10): Linear(in_features=128, out_features=50, bias=True)\n",
       "  (activation_11): ReLU()\n",
       "  (fc_12): Linear(in_features=50, out_features=1, bias=True)\n",
       "  (activation_13): Tanh()\n",
       ")"
      ]
     },
     "execution_count": 32,
     "metadata": {},
     "output_type": "execute_result"
    }
   ],
   "source": [
    "model"
   ]
  },
  {
   "cell_type": "markdown",
   "metadata": {},
   "source": [
    "#### train"
   ]
  },
  {
   "cell_type": "code",
   "execution_count": 25,
   "metadata": {},
   "outputs": [
    {
     "name": "stdout",
     "output_type": "stream",
     "text": [
      "Epoch: 0, Mini batch: 0, Loss: 1427.37, Validation loss: 49.11\n",
      "Epoch: 0, Mini batch: 20, Loss: 707.99, Validation loss: 3.76\n",
      "Epoch: 0, Mini batch: 40, Loss: 374.92, Validation loss: 1.78\n",
      "Epoch: 0, Mini batch: 60, Loss: 240.22, Validation loss: 1.08\n",
      "Epoch: 0, Mini batch: 80, Loss: 234.14, Validation loss: 0.82\n",
      "Epoch: 0, Mini batch: 100, Loss: 200.00, Validation loss: 0.68\n",
      "Epoch: 0, Mini batch: 120, Loss: 156.31, Validation loss: 0.62\n",
      "Epoch: 0, Mini batch: 140, Loss: 162.53, Validation loss: 0.66\n",
      "Epoch: 0, Mini batch: 160, Loss: 160.91, Validation loss: 0.51\n",
      "Epoch: 0, Mini batch: 180, Loss: 149.18, Validation loss: 0.51\n",
      "Epoch: 0, Mini batch: 200, Loss: 161.07, Validation loss: 0.58\n",
      "Epoch: 0, Mini batch: 220, Loss: 167.68, Validation loss: 0.49\n",
      "Epoch: 0, Mini batch: 240, Loss: 160.31, Validation loss: 0.44\n",
      "Epoch: 0, Mini batch: 260, Loss: 143.77, Validation loss: 0.52\n",
      "Epoch: 0, Mini batch: 280, Loss: 163.75, Validation loss: 0.45\n",
      "Epoch: 0, Mini batch: 300, Loss: 156.18, Validation loss: 0.46\n",
      "Epoch: 0, Mini batch: 320, Loss: 122.10, Validation loss: 0.45\n",
      "Epoch: 0, Mini batch: 340, Loss: 145.89, Validation loss: 0.45\n",
      "Epoch: 0, Mini batch: 360, Loss: 127.92, Validation loss: 0.40\n",
      "Epoch: 0, Mini batch: 380, Loss: 109.19, Validation loss: 0.46\n",
      "Epoch: 0, Mini batch: 400, Loss: 107.97, Validation loss: 0.39\n",
      "Epoch: 0, Mini batch: 420, Loss: 109.12, Validation loss: 0.46\n",
      "Epoch: 0, Mini batch: 440, Loss: 118.01, Validation loss: 0.43\n",
      "Epoch: 0, Mini batch: 460, Loss: 138.48, Validation loss: 0.42\n",
      "Epoch: 0, Mini batch: 480, Loss: 114.90, Validation loss: 0.52\n",
      "Epoch: 0, Mini batch: 500, Loss: 120.13, Validation loss: 0.38\n",
      "Epoch: 0, Mini batch: 520, Loss: 118.04, Validation loss: 0.41\n",
      "Epoch: 0, Mini batch: 540, Loss: 94.11, Validation loss: 0.42\n",
      "Epoch: 0, Mini batch: 560, Loss: 113.26, Validation loss: 0.42\n"
     ]
    }
   ],
   "source": [
    "\n",
    "\n",
    "\n",
    "loss_list=[]\n",
    "validation_list=[]\n",
    "batch_idx_list=[]\n",
    "\n",
    "optimizer = optim.Adam(model.parameters(), lr=1e-3)\n",
    "for iteration in range(1):\n",
    "    \n",
    "    for batch_idx, (data, data_rotated,shift_angles_true) in enumerate(train_loader):\n",
    "        model.train()\n",
    "        #print(type(data))\n",
    "        data=Variable(data)\n",
    "        data_rotated=Variable(data_rotated)\n",
    "        shift_angles_true=Variable(shift_angles_true)\n",
    "        data=data.unsqueeze(1)\n",
    "        data_rotated=data_rotated.unsqueeze(1)\n",
    "        shift_angles_true=shift_angles_true.unsqueeze(1)\n",
    "        merged=cat((data,data_rotated),1)\n",
    "       \n",
    "        optimizer.zero_grad()\n",
    "        shift_angles_predicted = model(merged)\n",
    "        #print(shift_angles_predicted.size())\n",
    "        #print(shift_angles_true.size())\n",
    "        loss = angle_loss_abs(shift_angles_true, shift_angles_predicted)\n",
    "       \n",
    "        loss.backward()\n",
    "        optimizer.step()\n",
    "        if batch_idx % 20 == 0:\n",
    "            \n",
    "\n",
    "            angles_predicted_validation=get_prediction(validation_data_tn,validation_data_rotated_tn,model)\n",
    "            avg_angle_err=angle_loss_abs(shift_angles_validation_tn, angles_predicted_validation,return_type=\"mean\")\n",
    "            loss_list.append(loss.item()/mini_batch_size)\n",
    "            batch_idx_list.append(batch_idx)\n",
    "            validation_list.append(avg_angle_err.data.numpy())\n",
    "            print(\"Epoch: {:d}, Mini batch: {:d}, Loss: {:.2f}, Validation loss: {:.2f}\"\\\n",
    "                  .format(iteration,batch_idx,loss.item(),avg_angle_err.data.numpy()))\n",
    "            \n",
    "                    \n",
    "\n",
    "            \n",
    "       \n",
    "    "
   ]
  },
  {
   "cell_type": "code",
   "execution_count": 26,
   "metadata": {},
   "outputs": [
    {
     "data": {
      "image/png": "[encoded data removed]",
      "text/plain": [
       "<matplotlib.figure.Figure at 0x104f03da0>"
      ]
     },
     "metadata": {},
     "output_type": "display_data"
    }
   ],
   "source": [
    "plot_train_err(loss_list,validation_list,batch_idx_list)\n"
   ]
  },
  {
   "cell_type": "markdown",
   "metadata": {},
   "source": [
    "#### lets test"
   ]
  },
  {
   "cell_type": "code",
   "execution_count": 27,
   "metadata": {
    "scrolled": true
   },
   "outputs": [
    {
     "name": "stdout",
     "output_type": "stream",
     "text": [
      "test size: 10000\n"
     ]
    }
   ],
   "source": [
    "_, _, x_test, t_test = load()\n",
    "\n",
    "print(\"test size: {}\".format(x_test.shape[0]))\n",
    "x_test=x_test.reshape((x_test.shape[0],28,28))\n",
    "x_test = x_test.astype('float32') / 255.\n",
    "\n",
    "\n",
    "\n",
    "shift_angles_test=np.random.normal(0,5,size=(x_test.shape[0]))\n",
    "shift_angles_test=shift_angles_test/180\n",
    "x_test_rotated=rotate_images(x_test,shift_angles_test)\n",
    "\n",
    "#x_test=x_test.round()\n",
    "#x_test_rotated=x_test_rotated.round()\n",
    "\n",
    "\n",
    "test_data_tn=torch.from_numpy(x_test).float()\n",
    "test_data_rotated_tn=torch.from_numpy(x_test_rotated).float()\n",
    "shift_angles_test_tn=torch.from_numpy(shift_angles_test).float()\n",
    "shift_angles_test_tn=shift_angles_test_tn.unsqueeze(1)\n"
   ]
  },
  {
   "cell_type": "code",
   "execution_count": 28,
   "metadata": {},
   "outputs": [
    {
     "data": {
      "image/png": "[encoded data removed]",
      "text/plain": [
       "<matplotlib.figure.Figure at 0x104f29780>"
      ]
     },
     "metadata": {},
     "output_type": "display_data"
    }
   ],
   "source": [
    "plot_rotated_images(x_test,x_test_rotated,shift_angles_test,pair_num_to_use=3)"
   ]
  },
  {
   "cell_type": "code",
   "execution_count": 29,
   "metadata": {},
   "outputs": [
    {
     "name": "stdout",
     "output_type": "stream",
     "text": [
      "total avg err is: 0.4673120379447937\n"
     ]
    }
   ],
   "source": [
    "angles_predicted_test=get_prediction(test_data_tn,test_data_rotated_tn,model)\n",
    "avg_angle_err_test=angle_loss_abs(shift_angles_test_tn, angles_predicted_test,return_type=\"mean\")\n",
    "print(\"total avg err is: {}\".format(avg_angle_err_test.data.numpy()))"
   ]
  },
  {
   "cell_type": "markdown",
   "metadata": {},
   "source": [
    "#### lets analyze the results a bit"
   ]
  },
  {
   "cell_type": "code",
   "execution_count": 30,
   "metadata": {},
   "outputs": [
    {
     "data": {
      "text/html": [
       "<div>\n",
       "<style scoped>\n",
       "    .dataframe tbody tr th:only-of-type {\n",
       "        vertical-align: middle;\n",
       "    }\n",
       "\n",
       "    .dataframe tbody tr th {\n",
       "        vertical-align: top;\n",
       "    }\n",
       "\n",
       "    .dataframe thead th {\n",
       "        text-align: right;\n",
       "    }\n",
       "</style>\n",
       "<table border=\"1\" class=\"dataframe\">\n",
       "  <thead>\n",
       "    <tr style=\"text-align: right;\">\n",
       "      <th></th>\n",
       "      <th>count</th>\n",
       "      <th>mean_err</th>\n",
       "      <th>median_err</th>\n",
       "      <th>max_err</th>\n",
       "      <th>std_err</th>\n",
       "    </tr>\n",
       "    <tr>\n",
       "      <th>tag</th>\n",
       "      <th></th>\n",
       "      <th></th>\n",
       "      <th></th>\n",
       "      <th></th>\n",
       "      <th></th>\n",
       "    </tr>\n",
       "  </thead>\n",
       "  <tbody>\n",
       "    <tr>\n",
       "      <th>1</th>\n",
       "      <td>1135.0</td>\n",
       "      <td>0.364330</td>\n",
       "      <td>0.000549</td>\n",
       "      <td>4.868317</td>\n",
       "      <td>0.464536</td>\n",
       "    </tr>\n",
       "    <tr>\n",
       "      <th>7</th>\n",
       "      <td>1028.0</td>\n",
       "      <td>0.405977</td>\n",
       "      <td>0.000549</td>\n",
       "      <td>5.336029</td>\n",
       "      <td>0.551851</td>\n",
       "    </tr>\n",
       "    <tr>\n",
       "      <th>4</th>\n",
       "      <td>982.0</td>\n",
       "      <td>0.409358</td>\n",
       "      <td>0.000046</td>\n",
       "      <td>5.591156</td>\n",
       "      <td>0.593094</td>\n",
       "    </tr>\n",
       "    <tr>\n",
       "      <th>8</th>\n",
       "      <td>974.0</td>\n",
       "      <td>0.419875</td>\n",
       "      <td>0.001495</td>\n",
       "      <td>5.433136</td>\n",
       "      <td>0.557620</td>\n",
       "    </tr>\n",
       "    <tr>\n",
       "      <th>6</th>\n",
       "      <td>958.0</td>\n",
       "      <td>0.445474</td>\n",
       "      <td>0.000992</td>\n",
       "      <td>6.904526</td>\n",
       "      <td>0.614558</td>\n",
       "    </tr>\n",
       "    <tr>\n",
       "      <th>3</th>\n",
       "      <td>1010.0</td>\n",
       "      <td>0.463480</td>\n",
       "      <td>0.000015</td>\n",
       "      <td>5.931091</td>\n",
       "      <td>0.639035</td>\n",
       "    </tr>\n",
       "    <tr>\n",
       "      <th>5</th>\n",
       "      <td>892.0</td>\n",
       "      <td>0.469623</td>\n",
       "      <td>0.000214</td>\n",
       "      <td>6.172211</td>\n",
       "      <td>0.571828</td>\n",
       "    </tr>\n",
       "    <tr>\n",
       "      <th>9</th>\n",
       "      <td>1009.0</td>\n",
       "      <td>0.503223</td>\n",
       "      <td>0.000198</td>\n",
       "      <td>4.308151</td>\n",
       "      <td>0.608107</td>\n",
       "    </tr>\n",
       "    <tr>\n",
       "      <th>2</th>\n",
       "      <td>1032.0</td>\n",
       "      <td>0.525710</td>\n",
       "      <td>0.000656</td>\n",
       "      <td>4.512375</td>\n",
       "      <td>0.642898</td>\n",
       "    </tr>\n",
       "    <tr>\n",
       "      <th>0</th>\n",
       "      <td>980.0</td>\n",
       "      <td>0.680864</td>\n",
       "      <td>0.000687</td>\n",
       "      <td>10.036911</td>\n",
       "      <td>1.021299</td>\n",
       "    </tr>\n",
       "  </tbody>\n",
       "</table>\n",
       "</div>"
      ],
      "text/plain": [
       "      count  mean_err  median_err    max_err   std_err\n",
       "tag                                                   \n",
       "1    1135.0  0.364330    0.000549   4.868317  0.464536\n",
       "7    1028.0  0.405977    0.000549   5.336029  0.551851\n",
       "4     982.0  0.409358    0.000046   5.591156  0.593094\n",
       "8     974.0  0.419875    0.001495   5.433136  0.557620\n",
       "6     958.0  0.445474    0.000992   6.904526  0.614558\n",
       "3    1010.0  0.463480    0.000015   5.931091  0.639035\n",
       "5     892.0  0.469623    0.000214   6.172211  0.571828\n",
       "9    1009.0  0.503223    0.000198   4.308151  0.608107\n",
       "2    1032.0  0.525710    0.000656   4.512375  0.642898\n",
       "0     980.0  0.680864    0.000687  10.036911  1.021299"
      ]
     },
     "execution_count": 30,
     "metadata": {},
     "output_type": "execute_result"
    }
   ],
   "source": [
    "test_dict={}\n",
    "test_dict[\"true_angle\"]=shift_angles_test*180\n",
    "test_dict[\"predicted_angle\"]=(angles_predicted_test.data.numpy()).reshape(angles_predicted_test.shape[0])*180\n",
    "test_dict[\"tag\"]=t_test\n",
    "err_vec=angle_loss_abs(shift_angles_test_tn, angles_predicted_test,return_type=\"full\")\n",
    "test_dict[\"err\"]=(err_vec.data.numpy()).reshape(err_vec.shape[0])\n",
    "test_res_df=pd.DataFrame(test_dict)\n",
    "col_order=[\"tag\",\"true_angle\",\"predicted_angle\",\"err\"]\n",
    "test_res_df=test_res_df[col_order]\n",
    "\n",
    "res_summery=test_res_df['err'].groupby(test_res_df['tag']).apply(get_stats).unstack()\n",
    "col_order=[\"count\",\"mean_err\",\"median_err\",\"max_err\",\"std_err\"]\n",
    "res_summery=res_summery[col_order].sort_values(by=\"mean_err\")\n",
    "res_summery"
   ]
  },
  {
   "cell_type": "markdown",
   "metadata": {},
   "source": [
    "## Second approch, Siamese network:"
   ]
  },
  {
   "cell_type": "markdown",
   "metadata": {},
   "source": [
    "#### I also tried to use siamese network however it did not seems to work properly. The concept of siamese network is that the net is made of two parts the first is feature extractor. We have each image going threw it separately then both outputs are joined together, pass threw the upper part of the network and compared.  "
   ]
  },
  {
   "cell_type": "code",
   "execution_count": null,
   "metadata": {},
   "outputs": [],
   "source": []
  }
 ],
 "metadata": {
  "kernelspec": {
   "display_name": "Python 3",
   "language": "python",
   "name": "python3"
  },
  "language_info": {
   "codemirror_mode": {
    "name": "ipython",
    "version": 3
   },
   "file_extension": ".py",
   "mimetype": "text/x-python",
   "name": "python",
   "nbconvert_exporter": "python",
   "pygments_lexer": "ipython3",
   "version": "3.5.5"
  }
 },
 "nbformat": 4,
 "nbformat_minor": 2
}
